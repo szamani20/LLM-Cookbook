{
 "cells": [
  {
   "cell_type": "markdown",
   "id": "fccdec2e-adda-474a-9077-f6e7c7f9a7b1",
   "metadata": {},
   "source": [
    "# Imports"
   ]
  },
  {
   "cell_type": "code",
   "execution_count": null,
   "id": "dc08cfc9-b825-4db8-827c-32bf775ce00a",
   "metadata": {},
   "outputs": [],
   "source": [
    "from datasets import load_dataset, DatasetDict\n",
    "import os\n",
    "import json"
   ]
  },
  {
   "cell_type": "markdown",
   "id": "ad5565af-7f35-4dfe-ad8f-f5e699dc03a8",
   "metadata": {},
   "source": [
    "# Load Raw Dataset"
   ]
  },
  {
   "cell_type": "code",
   "execution_count": 2,
   "id": "b3ad3c31-e122-4e0a-bfac-1fb7c080f2d9",
   "metadata": {},
   "outputs": [],
   "source": [
    "def load_raw_dataset(dataset_name: str = \"microsoft/orca-math-word-problems-200k\"):\n",
    "    return load_dataset(dataset_name)[\"train\"]"
   ]
  },
  {
   "cell_type": "markdown",
   "id": "f4ad9449-4da2-4ac5-8f0c-6ec8d0350113",
   "metadata": {},
   "source": [
    "# Split Dataset"
   ]
  },
  {
   "cell_type": "code",
   "execution_count": 3,
   "id": "549b6b87-ac96-4d02-8ffe-c820b5541d10",
   "metadata": {},
   "outputs": [],
   "source": [
    "def split_dataset(raw_ds, train_frac: float = 0.8, eval_frac: float = 0.1, test_frac: float = 0.1, seed: int = 42) -> DatasetDict:\n",
    "    train_ds, temp_ds = raw_ds.train_test_split(train_size=train_frac, seed=seed).values()\n",
    "    relative_eval = eval_frac / (eval_frac + test_frac)\n",
    "    eval_ds, test_ds = temp_ds.train_test_split(train_size=relative_eval, seed=seed).values()\n",
    "    return DatasetDict({\"train\": train_ds, \"eval\": eval_ds, \"test\": test_ds})"
   ]
  },
  {
   "cell_type": "markdown",
   "id": "029c8ae2-8433-4b0a-90dc-069d87579444",
   "metadata": {},
   "source": [
    "# Process Splits for SFT Alignment"
   ]
  },
  {
   "cell_type": "code",
   "execution_count": 4,
   "id": "7028d0f9-d9d7-4e7a-b4ba-4ccef9960775",
   "metadata": {},
   "outputs": [],
   "source": [
    "def process_split(split_ds, prompt_key: str = \"question\", answer_key: str = \"answer\") -> list:\n",
    "    system_message = \"\"\"Solve the given high school math problem by providing a clear explanation of each step leading to the final solution.\n",
    "    \n",
    "    Provide a detailed breakdown of your calculations, beginning with an explanation of the problem and describing how you derive each formula, value, or conclusion. Use logical steps that build upon one another, to arrive at the final answer in a systematic manner.\n",
    "    \n",
    "    # Steps\n",
    "    \n",
    "    1. **Understand the Problem**: Restate the given math problem and clearly identify the main question and any important given values.\n",
    "    2. **Set Up**: Identify the key formulas or concepts that could help solve the problem (e.g., algebraic manipulation, geometry formulas, trigonometric identities).\n",
    "    3. **Solve Step-by-Step**: Iteratively progress through each step of the math problem, justifying why each consecutive operation brings you closer to the solution.\n",
    "    4. **Double Check**: If applicable, double check the work for accuracy and sense, and mention potential alternative approaches if any.\n",
    "    5. **Final Answer**: Provide the numerical or algebraic solution clearly, accompanied by appropriate units if relevant.\n",
    "    \n",
    "    # Notes\n",
    "    \n",
    "    - Always clearly define any variable or term used.\n",
    "    - Wherever applicable, include unit conversions or context to explain why each formula or step has been chosen.\n",
    "    - Assume the level of mathematics is suitable for high school, and avoid overly advanced math techniques unless they are common at that level.\n",
    "    \"\"\"\n",
    "    return [\n",
    "        {\n",
    "            \"messages\": [\n",
    "                {\"role\": \"system\", \"content\": system_message},\n",
    "                {\"role\": \"user\", \"content\": ex[prompt_key]},\n",
    "                {\"role\": \"assistant\", \"content\": ex[answer_key].strip()}\n",
    "            ]\n",
    "        }\n",
    "        for ex in split_ds\n",
    "    ]"
   ]
  },
  {
   "cell_type": "markdown",
   "id": "e0cee4f6-34bf-460e-8554-15aec4a53bbe",
   "metadata": {},
   "source": [
    "# Save Processed Splits to Disk"
   ]
  },
  {
   "cell_type": "code",
   "execution_count": 5,
   "id": "6922e659-69aa-4fa2-bdb8-df26d989a7e4",
   "metadata": {},
   "outputs": [],
   "source": [
    "def save_splits(processed_splits: dict, output_dir: str = \"./processed_data\") -> None:\n",
    "    os.makedirs(output_dir, exist_ok=True)\n",
    "    for split_name, records in processed_splits.items():\n",
    "        out_path = os.path.join(output_dir, f\"{split_name}.jsonl\")\n",
    "        with open(out_path, \"w\", encoding=\"utf-8\") as f:\n",
    "            for rec in records:\n",
    "                f.write(json.dumps(rec, ensure_ascii=False) + \"\\n\")\n",
    "        print(f\"Saved {len(records)} examples to {out_path}\")"
   ]
  },
  {
   "cell_type": "markdown",
   "id": "5667636d-43c3-4179-ad2c-710ce04cf91d",
   "metadata": {},
   "source": [
    "# Load Processed Splits from Disk"
   ]
  },
  {
   "cell_type": "code",
   "execution_count": 6,
   "id": "965006d7-1aae-40ea-922b-8b3499f5e8e1",
   "metadata": {},
   "outputs": [],
   "source": [
    "def load_for_sft(data_dir: str = \"./lora_processed_data\") -> DatasetDict:\n",
    "    files = {\n",
    "        \"train\": os.path.join(data_dir, \"train.jsonl\"),\n",
    "        \"eval\": os.path.join(data_dir, \"eval.jsonl\"),\n",
    "        \"test\": os.path.join(data_dir, \"test.jsonl\")\n",
    "    }\n",
    "    ds = load_dataset(\"json\", data_files=files)\n",
    "    return ds"
   ]
  },
  {
   "cell_type": "markdown",
   "id": "2d3845eb-daeb-4354-b939-20e0db12434e",
   "metadata": {},
   "source": [
    "# Observe Data"
   ]
  },
  {
   "cell_type": "code",
   "execution_count": 7,
   "id": "56ee77f8-68c0-4925-96cb-5a26543ccea2",
   "metadata": {},
   "outputs": [
    {
     "data": {
      "text/plain": [
       "Dataset({\n",
       "    features: ['question', 'answer'],\n",
       "    num_rows: 200035\n",
       "})"
      ]
     },
     "execution_count": 7,
     "metadata": {},
     "output_type": "execute_result"
    }
   ],
   "source": [
    "raw_ds = load_raw_dataset()\n",
    "raw_ds"
   ]
  },
  {
   "cell_type": "code",
   "execution_count": 12,
   "id": "167ac40b-9622-4c43-aa28-847cc9d19b94",
   "metadata": {},
   "outputs": [
    {
     "data": {
      "text/plain": [
       "DatasetDict({\n",
       "    train: Dataset({\n",
       "        features: ['question', 'answer'],\n",
       "        num_rows: 160028\n",
       "    })\n",
       "    eval: Dataset({\n",
       "        features: ['question', 'answer'],\n",
       "        num_rows: 20003\n",
       "    })\n",
       "    test: Dataset({\n",
       "        features: ['question', 'answer'],\n",
       "        num_rows: 20004\n",
       "    })\n",
       "})"
      ]
     },
     "execution_count": 12,
     "metadata": {},
     "output_type": "execute_result"
    }
   ],
   "source": [
    "splits = split_dataset(raw_ds)\n",
    "splits"
   ]
  },
  {
   "cell_type": "code",
   "execution_count": 13,
   "id": "062fef39-9010-4090-b881-31a0b964e063",
   "metadata": {},
   "outputs": [
    {
     "data": {
      "text/plain": [
       "3"
      ]
     },
     "execution_count": 13,
     "metadata": {},
     "output_type": "execute_result"
    }
   ],
   "source": [
    "splits = {name: process_split(ds) for name, ds in splits.items()}\n",
    "len(splits)"
   ]
  },
  {
   "cell_type": "code",
   "execution_count": 14,
   "id": "e764dee4-a2b1-4b25-8629-c9a0c1b1f41d",
   "metadata": {},
   "outputs": [
    {
     "data": {
      "text/plain": [
       "160028"
      ]
     },
     "execution_count": 14,
     "metadata": {},
     "output_type": "execute_result"
    }
   ],
   "source": [
    "len(splits['train'])"
   ]
  },
  {
   "cell_type": "code",
   "execution_count": 15,
   "id": "b8ea4cae-1985-403d-8d63-f8e5c41fe3a5",
   "metadata": {},
   "outputs": [
    {
     "name": "stdout",
     "output_type": "stream",
     "text": [
      "Saved 160028 examples to ./lora_processed_data/train.jsonl\n",
      "Saved 20003 examples to ./lora_processed_data/eval.jsonl\n",
      "Saved 20004 examples to ./lora_processed_data/test.jsonl\n"
     ]
    }
   ],
   "source": [
    "save_splits(splits, output_dir=\"./lora_processed_data\")"
   ]
  },
  {
   "cell_type": "code",
   "execution_count": 16,
   "id": "64efbe0e-9422-4245-afe7-bc0cbe570d15",
   "metadata": {},
   "outputs": [
    {
     "name": "stderr",
     "output_type": "stream",
     "text": [
      "Generating train split: 160028 examples [00:00, 296460.61 examples/s]\n",
      "Generating eval split: 20003 examples [00:00, 342176.76 examples/s]\n",
      "Generating test split: 20004 examples [00:00, 320904.99 examples/s]\n"
     ]
    },
    {
     "data": {
      "text/plain": [
       "DatasetDict({\n",
       "    train: Dataset({\n",
       "        features: ['messages'],\n",
       "        num_rows: 160028\n",
       "    })\n",
       "    eval: Dataset({\n",
       "        features: ['messages'],\n",
       "        num_rows: 20003\n",
       "    })\n",
       "    test: Dataset({\n",
       "        features: ['messages'],\n",
       "        num_rows: 20004\n",
       "    })\n",
       "})"
      ]
     },
     "execution_count": 16,
     "metadata": {},
     "output_type": "execute_result"
    }
   ],
   "source": [
    "sft_ds = load_for_sft(\"lora_processed_data\")\n",
    "sft_ds"
   ]
  },
  {
   "cell_type": "code",
   "execution_count": 21,
   "id": "845b0af5-b5ae-4458-9160-4940359467c0",
   "metadata": {},
   "outputs": [
    {
     "data": {
      "text/plain": [
       "Dataset({\n",
       "    features: ['messages'],\n",
       "    num_rows: 160028\n",
       "})"
      ]
     },
     "execution_count": 21,
     "metadata": {},
     "output_type": "execute_result"
    }
   ],
   "source": [
    "sft_ds['train']"
   ]
  },
  {
   "cell_type": "code",
   "execution_count": 22,
   "id": "f1ca25bd-c960-40d1-a182-64b27820d5e0",
   "metadata": {},
   "outputs": [
    {
     "data": {
      "text/plain": [
       "{'messages': [{'role': 'system',\n",
       "   'content': 'Solve the given high school math problem by providing a clear explanation of each step leading to the final solution.\\n\\n    Provide a detailed breakdown of your calculations, beginning with an explanation of the problem and describing how you derive each formula, value, or conclusion. Use logical steps that build upon one another, to arrive at the final answer in a systematic manner.\\n\\n    # Steps\\n\\n    1. **Understand the Problem**: Restate the given math problem and clearly identify the main question and any important given values.\\n    2. **Set Up**: Identify the key formulas or concepts that could help solve the problem (e.g., algebraic manipulation, geometry formulas, trigonometric identities).\\n    3. **Solve Step-by-Step**: Iteratively progress through each step of the math problem, justifying why each consecutive operation brings you closer to the solution.\\n    4. **Double Check**: If applicable, double check the work for accuracy and sense, and mention potential alternative approaches if any.\\n    5. **Final Answer**: Provide the numerical or algebraic solution clearly, accompanied by appropriate units if relevant.\\n\\n    # Notes\\n\\n    - Always clearly define any variable or term used.\\n    - Wherever applicable, include unit conversions or context to explain why each formula or step has been chosen.\\n    - Assume the level of mathematics is suitable for high school, and avoid overly advanced math techniques unless they are common at that level.\\n    '},\n",
       "  {'role': 'user',\n",
       "   'content': 'Initially, some children were riding on the bus. At the bus stop, 10 children got off the bus while 5 more got on the bus. Then there were 16 children altogether on the bus. How many children were initially on the bus?'},\n",
       "  {'role': 'assistant',\n",
       "   'content': \"Let's call the initial number of children on the bus X.\\n\\nAccording to the information given, after the bus stop, 10 children got off and 5 got on, so the change in the number of children is 5 - 10 = -5 (because more children got off than got on).\\n\\nAfter this change, there were 16 children on the bus. This means that before the stop, there were 16 + 5 = 21 children on the bus (because we need to add back the 5 to account for the net loss of children at the bus stop).\\n\\nTherefore, initially, there were 21 children on the bus.\"}]}"
      ]
     },
     "execution_count": 22,
     "metadata": {},
     "output_type": "execute_result"
    }
   ],
   "source": [
    "sft_ds['train'][2]"
   ]
  },
  {
   "cell_type": "code",
   "execution_count": 23,
   "id": "a8fc6ede-1a39-4439-9385-e774de161823",
   "metadata": {},
   "outputs": [
    {
     "data": {
      "text/plain": [
       "[{'role': 'system',\n",
       "  'content': 'Solve the given high school math problem by providing a clear explanation of each step leading to the final solution.\\n\\n    Provide a detailed breakdown of your calculations, beginning with an explanation of the problem and describing how you derive each formula, value, or conclusion. Use logical steps that build upon one another, to arrive at the final answer in a systematic manner.\\n\\n    # Steps\\n\\n    1. **Understand the Problem**: Restate the given math problem and clearly identify the main question and any important given values.\\n    2. **Set Up**: Identify the key formulas or concepts that could help solve the problem (e.g., algebraic manipulation, geometry formulas, trigonometric identities).\\n    3. **Solve Step-by-Step**: Iteratively progress through each step of the math problem, justifying why each consecutive operation brings you closer to the solution.\\n    4. **Double Check**: If applicable, double check the work for accuracy and sense, and mention potential alternative approaches if any.\\n    5. **Final Answer**: Provide the numerical or algebraic solution clearly, accompanied by appropriate units if relevant.\\n\\n    # Notes\\n\\n    - Always clearly define any variable or term used.\\n    - Wherever applicable, include unit conversions or context to explain why each formula or step has been chosen.\\n    - Assume the level of mathematics is suitable for high school, and avoid overly advanced math techniques unless they are common at that level.\\n    '},\n",
       " {'role': 'user',\n",
       "  'content': 'Initially, some children were riding on the bus. At the bus stop, 10 children got off the bus while 5 more got on the bus. Then there were 16 children altogether on the bus. How many children were initially on the bus?'},\n",
       " {'role': 'assistant',\n",
       "  'content': \"Let's call the initial number of children on the bus X.\\n\\nAccording to the information given, after the bus stop, 10 children got off and 5 got on, so the change in the number of children is 5 - 10 = -5 (because more children got off than got on).\\n\\nAfter this change, there were 16 children on the bus. This means that before the stop, there were 16 + 5 = 21 children on the bus (because we need to add back the 5 to account for the net loss of children at the bus stop).\\n\\nTherefore, initially, there were 21 children on the bus.\"}]"
      ]
     },
     "execution_count": 23,
     "metadata": {},
     "output_type": "execute_result"
    }
   ],
   "source": [
    "sft_ds['train'][2]['messages']"
   ]
  }
 ],
 "metadata": {
  "kernelspec": {
   "display_name": "Python 3 (ipykernel)",
   "language": "python",
   "name": "python3"
  },
  "language_info": {
   "codemirror_mode": {
    "name": "ipython",
    "version": 3
   },
   "file_extension": ".py",
   "mimetype": "text/x-python",
   "name": "python",
   "nbconvert_exporter": "python",
   "pygments_lexer": "ipython3",
   "version": "3.12.7"
  }
 },
 "nbformat": 4,
 "nbformat_minor": 5
}
