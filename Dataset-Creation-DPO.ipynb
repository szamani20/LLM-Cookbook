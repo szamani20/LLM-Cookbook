{
 "cells": [
  {
   "cell_type": "markdown",
   "id": "4fab6a56-d30e-47e1-bec2-aaa2757b29c7",
   "metadata": {},
   "source": [
    "# Imports"
   ]
  },
  {
   "cell_type": "code",
   "execution_count": null,
   "id": "031d249f-92e2-4318-a34f-3552f96daeb3",
   "metadata": {},
   "outputs": [],
   "source": [
    "from datasets import load_dataset, DatasetDict\n",
    "import os\n",
    "import json"
   ]
  },
  {
   "cell_type": "markdown",
   "id": "458f11fc-abd7-4cec-aaec-640ddd9fdb43",
   "metadata": {},
   "source": [
    "# Load Raw Dataset"
   ]
  },
  {
   "cell_type": "code",
   "execution_count": 2,
   "id": "2eef60fe-601f-4d96-9b1a-033445aa2837",
   "metadata": {},
   "outputs": [],
   "source": [
    "def load_raw_dataset(dataset_name: str = \"argilla/ultrafeedback-binarized-preferences-cleaned\"):\n",
    "    return load_dataset(dataset_name)"
   ]
  },
  {
   "cell_type": "markdown",
   "id": "514b4d88-5d23-4bda-a8c0-bb6a7b25101b",
   "metadata": {},
   "source": [
    "# Split Dataset"
   ]
  },
  {
   "cell_type": "code",
   "execution_count": 3,
   "id": "8ea1c041-23d0-4f8c-826d-6120ce1932a7",
   "metadata": {},
   "outputs": [],
   "source": [
    "def split_dataset(raw_ds, train_frac: float = 0.8, eval_frac: float = 0.1, test_frac: float = 0.1, seed: int = 42) -> DatasetDict:\n",
    "    # The dataset has only 'train', so split that\n",
    "    train_ds, temp_ds = raw_ds[\"train\"].train_test_split(train_size=train_frac, seed=seed).values()\n",
    "    relative_eval = eval_frac / (eval_frac + test_frac)\n",
    "    eval_ds, test_ds = temp_ds.train_test_split(train_size=relative_eval, seed=seed).values()\n",
    "    return DatasetDict({\"train\": train_ds, \"eval\": eval_ds, \"test\": test_ds})"
   ]
  },
  {
   "cell_type": "markdown",
   "id": "56ba72bb-0cb5-4c9f-b79a-3fe185d05a7b",
   "metadata": {},
   "source": [
    "# Process Splits for DPO Alignment"
   ]
  },
  {
   "cell_type": "code",
   "execution_count": 5,
   "id": "ca9e6803-bfd3-4c67-8a3f-98486695e62d",
   "metadata": {},
   "outputs": [],
   "source": [
    "def process_split(split_ds) -> list:\n",
    "    SYSTEM_PROMPT = \"You are a helpful AI assistant.\"\n",
    "    processed = []\n",
    "    for ex in split_ds:\n",
    "        prompt = ex[\"prompt\"]\n",
    "        chosen = ex[\"chosen\"][1]['content']\n",
    "        rejected = ex[\"rejected\"][1]['content']\n",
    "        processed.append({\"prompt\": prompt, \"chosen\": chosen, \"rejected\": rejected})\n",
    "    return processed"
   ]
  },
  {
   "cell_type": "markdown",
   "id": "9850cfab-b8f8-48bf-af7c-9363c4316f66",
   "metadata": {},
   "source": [
    "# Save Processed Splits to Disk"
   ]
  },
  {
   "cell_type": "code",
   "execution_count": 6,
   "id": "4c76631d-e739-415c-9808-89c0d33154ee",
   "metadata": {},
   "outputs": [],
   "source": [
    "def save_splits(processed_splits: dict, output_dir: str = \"./dpo_data\") -> None:\n",
    "    os.makedirs(output_dir, exist_ok=True)\n",
    "    for split_name, records in processed_splits.items():\n",
    "        path = os.path.join(output_dir, f\"{split_name}.jsonl\")\n",
    "        with open(path, \"w\", encoding=\"utf-8\") as f:\n",
    "            for rec in records:\n",
    "                f.write(json.dumps(rec, ensure_ascii=False) + \"\\n\")\n",
    "        print(f\"Saved {len(records)} examples to {path}\")"
   ]
  },
  {
   "cell_type": "markdown",
   "id": "6714c138-39a7-4a11-8a4c-1cab45d73c7a",
   "metadata": {},
   "source": [
    "# Load Processed Splits from Disk"
   ]
  },
  {
   "cell_type": "code",
   "execution_count": 7,
   "id": "ad8282cb-5d66-4101-bbfc-87c8c5932d13",
   "metadata": {},
   "outputs": [],
   "source": [
    "def load_for_dpo(data_dir: str = \"./dpo_processed_data\") -> DatasetDict:\n",
    "    files = {\n",
    "        \"train\": os.path.join(data_dir, \"train.jsonl\"),\n",
    "        \"eval\": os.path.join(data_dir, \"eval.jsonl\"),\n",
    "        \"test\": os.path.join(data_dir, \"test.jsonl\")\n",
    "    }\n",
    "    return load_dataset(\"json\", data_files=files)"
   ]
  },
  {
   "cell_type": "markdown",
   "id": "99559919-1d39-4831-be7c-4ab2037cf0f9",
   "metadata": {},
   "source": [
    "# Observe Data"
   ]
  },
  {
   "cell_type": "code",
   "execution_count": 8,
   "id": "32fba68c-0127-451f-9e8c-7545d955485d",
   "metadata": {},
   "outputs": [
    {
     "data": {
      "text/plain": [
       "DatasetDict({\n",
       "    train: Dataset({\n",
       "        features: ['source', 'prompt', 'chosen', 'chosen-rating', 'chosen-model', 'rejected', 'rejected-rating', 'rejected-model'],\n",
       "        num_rows: 60917\n",
       "    })\n",
       "})"
      ]
     },
     "execution_count": 8,
     "metadata": {},
     "output_type": "execute_result"
    }
   ],
   "source": [
    "raw_ds = load_raw_dataset()\n",
    "raw_ds"
   ]
  },
  {
   "cell_type": "code",
   "execution_count": 9,
   "id": "90cba58e-de1c-4683-8b5b-a84ad3a8aff1",
   "metadata": {},
   "outputs": [
    {
     "data": {
      "text/plain": [
       "'Can you write a C++ program that prompts the user to enter the name of a country and checks if it borders the Mediterranean Sea? Here\\'s some starter code to help you out:\\n#include <iostream>\\n#include <string>\\nusing namespace std;\\nint main() {\\n    string country;\\n    // prompt user for input\\n    cout << \"Enter the name of a country: \";\\n    cin >> country;\\n    // check if country borders the Mediterranean Sea\\n    // [C++ code]\\n    return 0;\\n}'"
      ]
     },
     "execution_count": 9,
     "metadata": {},
     "output_type": "execute_result"
    }
   ],
   "source": [
    "raw_ds['train'][0]['prompt']"
   ]
  },
  {
   "cell_type": "code",
   "execution_count": 10,
   "id": "f92b3787-d211-4b20-a4ca-c667968ac3e3",
   "metadata": {},
   "outputs": [
    {
     "data": {
      "text/plain": [
       "{'content': 'Here\\'s a C++ program that prompts the user to enter the name of a country and checks if it borders the Mediterranean Sea:\\n\\n#include <iostream>\\n#include <string>\\n#include <set>\\n#include <map>\\n#include <algorithm>\\n\\nusing namespace std;\\n\\nint main() {\\n    // store countries and their bordering seas in a map\\n    map<string, set<string>> countries;\\n    countries[\"Algeria\"] = {\"Mediterranean Sea\", \"North African Coast\"};\\n    countries[\"France\"] = {\"Mediterranean Sea\", \"English Channel\"};\\n    countries[\"Italy\"] = {\"Mediterranean Sea\", \"Adriatic Sea\"};\\n    countries[\"Malta\"] = {\"Mediterranean Sea\", \"North African Coast\"};\\n    countries[\"Spain\"] = {\"Mediterranean Sea\", \"Atlantic Ocean\"};\\n    countries[\"Tunisia\"] = {\"Mediterranean Sea\", \"North African Coast\"};\\n\\n    string country;\\n    cout << \"Enter the name of a country: \";\\n    cin >> country;\\n\\n    // check if country is in the map\\n    if (countries.find(country)!= countries.end()) {\\n        // check if country borders the Mediterranean Sea\\n        set<string> borders = countries.at(country);\\n        if (borders.find(\"Mediterranean Sea\")!= borders.end()) {\\n            cout << country << \" borders the Mediterranean Sea.\" << endl;\\n        } else {\\n            cout << country << \" does not border the Mediterranean Sea.\" << endl;\\n        }\\n    } else {\\n        cout << country << \" is not a recognized country.\" << endl;\\n    }\\n\\n    return 0;\\n}\\n\\nIn this program, we first define a map called countries that stores each country\\'s name as a key and a set of its surrounding seas as the value. We use a set to store each sea name so that we can easily check if a country borders a certain sea.\\n\\nWe then present the user with a prompt to enter the name of a country. We use a while loop to ensure that the user enters a valid country name. We check if the country is in the map, and if so, we retrieve its bordering seas from the map.\\n\\nFinally, we check if the Mediterranean Sea is among the set of borders. If it is, we inform the user that the country borders the Mediterranean Sea. If not, we inform the user that the country does not border the Mediterranean Sea.',\n",
       " 'role': 'assistant'}"
      ]
     },
     "execution_count": 10,
     "metadata": {},
     "output_type": "execute_result"
    }
   ],
   "source": [
    "raw_ds['train'][0]['chosen'][1]"
   ]
  },
  {
   "cell_type": "code",
   "execution_count": 11,
   "id": "75373d43-4055-4e22-a81b-72bf0cc0c6b5",
   "metadata": {},
   "outputs": [
    {
     "data": {
      "text/plain": [
       "{'content': 'Sure, here is the program using the C++11 algorithm \"cds::algorithm::GreaterEqual\":\\n#include <iostream>\\n#include <string>\\n#include <algorithm>\\n#include <vector>\\n#include <cctype>\\n\\nusing namespace std;\\n\\nint main() {\\n    string country;\\n    cout << \"Enter the name of a country: \";\\n    cin >> country;\\n    std::vector<string> vec;\\n    vec.push_back(country);\\n    size_t index = std::find_if(vec.begin(), vec.end(), [](const string& s) {\\n        return std::any_of(s.begin(), s.end(), [](const char& c) {\\n            return c == \\'}}\\';\\n    });\\n    if (index != vec.end()) {\\n        if ((*index)[0] == \\'M\\') {\\n            cout << \"Country is bordered by the Mediterranean Sea.\" << endl;\\n        } else {\\n            cout << \"Country does not border the Mediterranean Sea.\" << endl;\\n        }\\n    } else {\\n        cout << \"Country is not found.\" << endl;\\n    }\\n    return 0;\\n}',\n",
       " 'role': 'assistant'}"
      ]
     },
     "execution_count": 11,
     "metadata": {},
     "output_type": "execute_result"
    }
   ],
   "source": [
    "raw_ds['train'][0]['rejected'][1]"
   ]
  },
  {
   "cell_type": "code",
   "execution_count": 12,
   "id": "f35c6750-4aa3-41d5-a0b1-22e50b673816",
   "metadata": {},
   "outputs": [
    {
     "data": {
      "text/plain": [
       "DatasetDict({\n",
       "    train: Dataset({\n",
       "        features: ['source', 'prompt', 'chosen', 'chosen-rating', 'chosen-model', 'rejected', 'rejected-rating', 'rejected-model'],\n",
       "        num_rows: 48733\n",
       "    })\n",
       "    eval: Dataset({\n",
       "        features: ['source', 'prompt', 'chosen', 'chosen-rating', 'chosen-model', 'rejected', 'rejected-rating', 'rejected-model'],\n",
       "        num_rows: 6092\n",
       "    })\n",
       "    test: Dataset({\n",
       "        features: ['source', 'prompt', 'chosen', 'chosen-rating', 'chosen-model', 'rejected', 'rejected-rating', 'rejected-model'],\n",
       "        num_rows: 6092\n",
       "    })\n",
       "})"
      ]
     },
     "execution_count": 12,
     "metadata": {},
     "output_type": "execute_result"
    }
   ],
   "source": [
    "splits = split_dataset(raw_ds)\n",
    "splits"
   ]
  },
  {
   "cell_type": "code",
   "execution_count": 13,
   "id": "2fad31d4-eec8-452e-91b6-47e5588a50f2",
   "metadata": {},
   "outputs": [
    {
     "data": {
      "text/plain": [
       "3"
      ]
     },
     "execution_count": 13,
     "metadata": {},
     "output_type": "execute_result"
    }
   ],
   "source": [
    "splits = {name: process_split(ds) for name, ds in splits.items()}\n",
    "len(splits)"
   ]
  },
  {
   "cell_type": "code",
   "execution_count": 14,
   "id": "3387c35c-a95c-4a33-9555-68a17be1f4e2",
   "metadata": {},
   "outputs": [
    {
     "data": {
      "text/plain": [
       "48733"
      ]
     },
     "execution_count": 14,
     "metadata": {},
     "output_type": "execute_result"
    }
   ],
   "source": [
    "len(splits['train'])"
   ]
  },
  {
   "cell_type": "code",
   "execution_count": 15,
   "id": "bb01673b-db67-4cbc-a77f-162ae7aca2a9",
   "metadata": {},
   "outputs": [
    {
     "name": "stdout",
     "output_type": "stream",
     "text": [
      "Saved 48733 examples to ./dpo_processed_data/train.jsonl\n",
      "Saved 6092 examples to ./dpo_processed_data/eval.jsonl\n",
      "Saved 6092 examples to ./dpo_processed_data/test.jsonl\n"
     ]
    }
   ],
   "source": [
    "save_splits(splits, output_dir=\"./dpo_processed_data\")"
   ]
  },
  {
   "cell_type": "code",
   "execution_count": 16,
   "id": "ccb2c6a2-df69-4499-bf19-4a529389dd26",
   "metadata": {},
   "outputs": [
    {
     "name": "stderr",
     "output_type": "stream",
     "text": [
      "Generating train split: 48733 examples [00:00, 213636.08 examples/s]\n",
      "Generating eval split: 6092 examples [00:00, 201970.56 examples/s]\n",
      "Generating test split: 6092 examples [00:00, 152419.16 examples/s]\n"
     ]
    },
    {
     "data": {
      "text/plain": [
       "DatasetDict({\n",
       "    train: Dataset({\n",
       "        features: ['prompt', 'chosen', 'rejected'],\n",
       "        num_rows: 48733\n",
       "    })\n",
       "    eval: Dataset({\n",
       "        features: ['prompt', 'chosen', 'rejected'],\n",
       "        num_rows: 6092\n",
       "    })\n",
       "    test: Dataset({\n",
       "        features: ['prompt', 'chosen', 'rejected'],\n",
       "        num_rows: 6092\n",
       "    })\n",
       "})"
      ]
     },
     "execution_count": 16,
     "metadata": {},
     "output_type": "execute_result"
    }
   ],
   "source": [
    "dpo_ds = load_for_dpo(data_dir='dpo_processed_data')\n",
    "dpo_ds"
   ]
  },
  {
   "cell_type": "code",
   "execution_count": 17,
   "id": "5b684ef4-5858-4f4c-9e28-4727bf95f391",
   "metadata": {},
   "outputs": [
    {
     "data": {
      "text/plain": [
       "Dataset({\n",
       "    features: ['prompt', 'chosen', 'rejected'],\n",
       "    num_rows: 48733\n",
       "})"
      ]
     },
     "execution_count": 17,
     "metadata": {},
     "output_type": "execute_result"
    }
   ],
   "source": [
    "dpo_ds['train']"
   ]
  },
  {
   "cell_type": "code",
   "execution_count": 18,
   "id": "45fc520c-74af-4b4f-94d0-c47499e270be",
   "metadata": {},
   "outputs": [
    {
     "data": {
      "text/plain": [
       "{'prompt': 'Write a short story set in the 1920s, featuring a hardboiled detective tasked with solving a grisly murder at a theater festival in New York City. Incorporate clues within the setting and dialogue, and keep the tone mysterious and suspenseful throughout the narrative.',\n",
       " 'chosen': 'It was a sweltering summer evening in New York City, the summer of 1920. A theater festival was taking place in the city, showcasing plays and musicals from all over the country. The festival was a hub of creativity and excitement, with crowds of people pouring in every night to catch the latest performance.\\nBut amidst the glamour and excitement, a grisly murder occurred. A young actress was found dead backstage, her body battered and bruised beyond recognition. The police were called and the theater was quickly shut down, as detectives set out to solve the gruesome crime.\\nEnter our hardboiled detective, Jack Ryan, a grizzled and no-nonsense investigator with a penchant for solving the toughest cases. With his trusty detective agency by his side, Ryan was tasked with getting to the bottom of the murder.\\nRyan arrived at the theater just as the police were finishing up their investigation. The backstage area was a chaotic mess, with actors and production crew members milling about, looking shaken and distraught. Ryan knew he had to act quickly, before the evidence was tampered with or lost.\\n\"Thank you, Officer,\" Ryan said to the uniformed policeman standing guard at the entrance to the backstage area. \"I\\'ll take it from here.\"\\nThe policeman nodded and stepped aside, allowing Ryan to enter the crime scene. As he made his way through the chaos, he noticed a few things that didn\\'t quite add up. For one, the victim\\'s body was in a strange position, almost as if she had been staged. And two, there were no signs of forced entry or struggle, leading Ryan to believe the killer had been someone the victim had known intimately.\\nRyan began by questioning the victim\\'s colleagues and acquaintances. He learned that the victim, a rising star in the theater world, had been in a romantic relationship with a fellow actor, but the actor had denied any involvement in the murder. Ryan also discovered that the victim had been receiving threatening letters, which had been sent to the theater\\'s producer.\\nAs Ryan continued his investigation, he stumbled upon a peculiar clue. In one of the dressing rooms, he found a small journal hidden in a drawer. The journal was filled with cryptic notes and drawings, seemingly random, but Ryan suspected there was more to them.\\nRyan sat down in the dressing room, pouring over the journal, trying to decipher its meaning. It was then he noticed a symbol, etched into the wall above the desk. It looked like a cross with two curved horns on either side, and it seemed to match one of the drawings in the journal.\\nRyan\\'s heart began to race. He knew he was onto something big. He quickly made his way back to his office, where he collected all his notes and evidence, and set out to solve the case.\\nAs the night wore on, Ryan pieced together the evidence, and it became clear that the murder was not just a random act of violence. It was a calculated and premeditated crime, committed by a person with a twisted mind.\\nRyan\\'s final confrontation took place in an abandoned warehouse on the outskirts of the city. There, he found the killer, a disheveled and disturbed young man, cowering in the corner. Ryan\\'s eyes locked onto the symbol etched into the wall, and he knew he had found his man.\\n\"You,\" Ryan said, his voice low and menacing. \"You\\'re the one who did this. You\\'re the one who etched that symbol into the wall.\"\\nThe killer, overwhelmed, nodded his head in surrender. Ryan handcuffed him and read him his rights, bringing an end to the bloody night at the theater festival.\\nAs the sun rose on a new day, Ryan closed his case file, feeling a sense of satisfaction and accomplishment. He had solved the murder, and brought justice to the victim and her loved ones. And he had uncovered a dark and twisted secret, one that would haunt him for years to come.',\n",
       " 'rejected': \"The sound of the busy theater district could be heard in the distance, as the detective made their way through the throngs of people. The air was thick with the scent of popcorn and excitement as the crowds made their way to the theater festival. But as the detective approached, their ears were met with the sound of a woman's piercing scream. As they weaved through the sea of people, they discovered the source of the scream - a dead body lying in the middle of the popcorn-covered floor. The detective had a job cut out for them, as the clues were scarce but pointed towards the possibility of a larger conspiracy. With their sharp wit and deductive reasoning, the detective set out to solve the crime and uncover the truth. But as darkness crept upon the festival, the mystery seemed to deepen, and the detective's resolve was put to the test. Who was the murderer, and what was their motive? Was it all part of a larger plot? The detective needed to act fast in order to crack the case before the tragic play reached its final act. And so, they made their move, careful to not let anything slip by unnoticed.\"}"
      ]
     },
     "execution_count": 18,
     "metadata": {},
     "output_type": "execute_result"
    }
   ],
   "source": [
    "dpo_ds['train'][0]"
   ]
  },
  {
   "cell_type": "code",
   "execution_count": 19,
   "id": "829828a0-c791-4dd4-a744-78921620774e",
   "metadata": {},
   "outputs": [
    {
     "data": {
      "text/plain": [
       "'Write a short story set in the 1920s, featuring a hardboiled detective tasked with solving a grisly murder at a theater festival in New York City. Incorporate clues within the setting and dialogue, and keep the tone mysterious and suspenseful throughout the narrative.'"
      ]
     },
     "execution_count": 19,
     "metadata": {},
     "output_type": "execute_result"
    }
   ],
   "source": [
    "dpo_ds['train'][0]['prompt']"
   ]
  },
  {
   "cell_type": "code",
   "execution_count": 20,
   "id": "6234950b-f812-4d5b-a19f-93008560b404",
   "metadata": {},
   "outputs": [
    {
     "data": {
      "text/plain": [
       "'It was a sweltering summer evening in New York City, the summer of 1920. A theater festival was taking place in the city, showcasing plays and musicals from all over the country. The festival was a hub of creativity and excitement, with crowds of people pouring in every night to catch the latest performance.\\nBut amidst the glamour and excitement, a grisly murder occurred. A young actress was found dead backstage, her body battered and bruised beyond recognition. The police were called and the theater was quickly shut down, as detectives set out to solve the gruesome crime.\\nEnter our hardboiled detective, Jack Ryan, a grizzled and no-nonsense investigator with a penchant for solving the toughest cases. With his trusty detective agency by his side, Ryan was tasked with getting to the bottom of the murder.\\nRyan arrived at the theater just as the police were finishing up their investigation. The backstage area was a chaotic mess, with actors and production crew members milling about, looking shaken and distraught. Ryan knew he had to act quickly, before the evidence was tampered with or lost.\\n\"Thank you, Officer,\" Ryan said to the uniformed policeman standing guard at the entrance to the backstage area. \"I\\'ll take it from here.\"\\nThe policeman nodded and stepped aside, allowing Ryan to enter the crime scene. As he made his way through the chaos, he noticed a few things that didn\\'t quite add up. For one, the victim\\'s body was in a strange position, almost as if she had been staged. And two, there were no signs of forced entry or struggle, leading Ryan to believe the killer had been someone the victim had known intimately.\\nRyan began by questioning the victim\\'s colleagues and acquaintances. He learned that the victim, a rising star in the theater world, had been in a romantic relationship with a fellow actor, but the actor had denied any involvement in the murder. Ryan also discovered that the victim had been receiving threatening letters, which had been sent to the theater\\'s producer.\\nAs Ryan continued his investigation, he stumbled upon a peculiar clue. In one of the dressing rooms, he found a small journal hidden in a drawer. The journal was filled with cryptic notes and drawings, seemingly random, but Ryan suspected there was more to them.\\nRyan sat down in the dressing room, pouring over the journal, trying to decipher its meaning. It was then he noticed a symbol, etched into the wall above the desk. It looked like a cross with two curved horns on either side, and it seemed to match one of the drawings in the journal.\\nRyan\\'s heart began to race. He knew he was onto something big. He quickly made his way back to his office, where he collected all his notes and evidence, and set out to solve the case.\\nAs the night wore on, Ryan pieced together the evidence, and it became clear that the murder was not just a random act of violence. It was a calculated and premeditated crime, committed by a person with a twisted mind.\\nRyan\\'s final confrontation took place in an abandoned warehouse on the outskirts of the city. There, he found the killer, a disheveled and disturbed young man, cowering in the corner. Ryan\\'s eyes locked onto the symbol etched into the wall, and he knew he had found his man.\\n\"You,\" Ryan said, his voice low and menacing. \"You\\'re the one who did this. You\\'re the one who etched that symbol into the wall.\"\\nThe killer, overwhelmed, nodded his head in surrender. Ryan handcuffed him and read him his rights, bringing an end to the bloody night at the theater festival.\\nAs the sun rose on a new day, Ryan closed his case file, feeling a sense of satisfaction and accomplishment. He had solved the murder, and brought justice to the victim and her loved ones. And he had uncovered a dark and twisted secret, one that would haunt him for years to come.'"
      ]
     },
     "execution_count": 20,
     "metadata": {},
     "output_type": "execute_result"
    }
   ],
   "source": [
    "dpo_ds['train'][0]['chosen']"
   ]
  },
  {
   "cell_type": "code",
   "execution_count": 21,
   "id": "eabe4c73-528c-47ef-aa43-be6d7ecd26a7",
   "metadata": {},
   "outputs": [
    {
     "data": {
      "text/plain": [
       "\"The sound of the busy theater district could be heard in the distance, as the detective made their way through the throngs of people. The air was thick with the scent of popcorn and excitement as the crowds made their way to the theater festival. But as the detective approached, their ears were met with the sound of a woman's piercing scream. As they weaved through the sea of people, they discovered the source of the scream - a dead body lying in the middle of the popcorn-covered floor. The detective had a job cut out for them, as the clues were scarce but pointed towards the possibility of a larger conspiracy. With their sharp wit and deductive reasoning, the detective set out to solve the crime and uncover the truth. But as darkness crept upon the festival, the mystery seemed to deepen, and the detective's resolve was put to the test. Who was the murderer, and what was their motive? Was it all part of a larger plot? The detective needed to act fast in order to crack the case before the tragic play reached its final act. And so, they made their move, careful to not let anything slip by unnoticed.\""
      ]
     },
     "execution_count": 21,
     "metadata": {},
     "output_type": "execute_result"
    }
   ],
   "source": [
    "dpo_ds['train'][0]['rejected']"
   ]
  },
  {
   "cell_type": "code",
   "execution_count": null,
   "id": "ac546e50-508d-4dbf-abe5-c7cbb029c945",
   "metadata": {},
   "outputs": [],
   "source": [
    "print(dpo_ds[\"train\"][3][\"prompt\"])\n",
    "print(dpo_ds[\"train\"][3][\"prompt\"][0].keys())\n",
    "print(dpo_ds[\"train\"][3][\"prompt\"][1].keys())\n",
    "print('\\n')\n",
    "print(dpo_ds[\"train\"][3][\"chosen\"])\n",
    "print(dpo_ds[\"train\"][3][\"chosen\"].keys())\n",
    "print('\\n')\n",
    "print(dpo_ds[\"train\"][3][\"rejected\"])\n",
    "print(dpo_ds[\"train\"][3][\"rejected\"].keys())\n",
    "print('\\n')"
   ]
  }
 ],
 "metadata": {
  "kernelspec": {
   "display_name": "Python 3 (ipykernel)",
   "language": "python",
   "name": "python3"
  },
  "language_info": {
   "codemirror_mode": {
    "name": "ipython",
    "version": 3
   },
   "file_extension": ".py",
   "mimetype": "text/x-python",
   "name": "python",
   "nbconvert_exporter": "python",
   "pygments_lexer": "ipython3",
   "version": "3.12.7"
  }
 },
 "nbformat": 4,
 "nbformat_minor": 5
}
